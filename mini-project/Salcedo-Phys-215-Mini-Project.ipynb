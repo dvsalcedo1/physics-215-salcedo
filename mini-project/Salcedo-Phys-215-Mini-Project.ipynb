{
 "cells": [
  {
   "cell_type": "markdown",
   "metadata": {},
   "source": [
    "# Modelling opinion shifts with the Smooth Bounded Confidence Model"
   ]
  },
  {
   "cell_type": "markdown",
   "metadata": {},
   "source": [
    "Salcedo, Dylan Nicolas Emmanuel \\\n",
    "2011-24175 \\\n",
    "Physics 215 \\\n",
    "Mini-Project"
   ]
  },
  {
   "cell_type": "markdown",
   "metadata": {},
   "source": [
    "In this project, we investigate the effect of changing parameters on the Smooth Bounded Confidence Model as applied to opinions of individuals in social networks.\n",
    "\n",
    "Main reference: https://arxiv.org/abs/cond-mat/0410199"
   ]
  },
  {
   "cell_type": "markdown",
   "metadata": {},
   "source": [
    "## Setup"
   ]
  },
  {
   "cell_type": "markdown",
   "metadata": {},
   "source": [
    "We will be using Julia's mutables structs to create our models and agents (nodes). The model consists of all the agents present as an array, with each agent containing the attributes `id`, `opinion`, and `uncertainty`."
   ]
  },
  {
   "cell_type": "code",
   "execution_count": 1,
   "metadata": {},
   "outputs": [],
   "source": [
    "mutable struct Agent\n",
    "    id::Int64\n",
    "    opinion::Float64\n",
    "    uncertainty::Float64\n",
    "end\n",
    "\n",
    "mutable struct Model\n",
    "    agents::Array\n",
    "end"
   ]
  },
  {
   "cell_type": "markdown",
   "metadata": {},
   "source": [
    "Unlike other Object-Oriented Programming languages, Julia doesn't exactly have dedicated methods for its structs. Instead, we will be using functions to operate on them."
   ]
  },
  {
   "cell_type": "markdown",
   "metadata": {},
   "source": [
    "Our models will consist of the following agents:\n",
    "\n",
    "- Lower extremists: 5% of all agents, with initial opinion -1.0 and uncertainty 0.05\n",
    "- Upper extremists: 5% of all agents, with initial opinion +1.0 and uncertainty 0.05\n",
    "- Moderates: The rest of the agents, with initial opinion randomly chosen from -1.0 to +1.0. Uncertainties vary per model"
   ]
  },
  {
   "cell_type": "code",
   "execution_count": 2,
   "metadata": {},
   "outputs": [
    {
     "data": {
      "text/plain": [
       "createModel (generic function with 1 method)"
      ]
     },
     "metadata": {},
     "output_type": "display_data"
    }
   ],
   "source": [
    "function randRange(a,b)\n",
    "    return rand()*(b-a) + a\n",
    "end\n",
    "\n",
    "function createModel(model,num_agents,mod_uncertainty)\n",
    "    all_agents = []\n",
    "    num_extremists = Int(floor(0.05*num_agents))\n",
    "    num_moderates = num_agents - 2*num_extremists\n",
    "    id_num = 1\n",
    "\n",
    "    # Create the lower extremists\n",
    "    for agent in 1:num_extremists\n",
    "        all_agents = vcat(\n",
    "            all_agents,\n",
    "            Agent(\n",
    "                id_num,\n",
    "                -1.0,\n",
    "                0.05\n",
    "            )\n",
    "        )\n",
    "        id_num = id_num + 1\n",
    "    end\n",
    "\n",
    "    # Create the upper extremists\n",
    "    for agent in 1:num_extremists\n",
    "        all_agents = vcat(\n",
    "            all_agents,\n",
    "            Agent(\n",
    "                id_num,\n",
    "                1.0,\n",
    "                0.05\n",
    "            )\n",
    "        )\n",
    "        id_num = id_num + 1\n",
    "    end\n",
    "\n",
    "    # Create moderates\n",
    "    for agent in 1:num_moderates\n",
    "        all_agents = vcat(\n",
    "            all_agents,\n",
    "            Agent(\n",
    "                id_num,\n",
    "                randRange(-1.0,1.0),\n",
    "                mod_uncertainty\n",
    "            )\n",
    "        )\n",
    "        id_num = id_num + 1\n",
    "    end\n",
    "\n",
    "    model.agents = all_agents\n",
    "    return model\n",
    "end"
   ]
  },
  {
   "cell_type": "markdown",
   "metadata": {},
   "source": [
    "This project assumes that all nodes are connected to each other (i.e. fully connected network). For each node-neighbor interaction, the node's opinion and uncertainty changes according to the following,\n",
    "\n",
    "New opinion: $\\frac{x + y*g(x-y)}{1 + g(x-y)}$\n",
    "\n",
    "New uncertainty: $\\frac{u + v*g(x-y)}{1 + g(x-y)}$\n",
    "\n",
    "$g(x-y) = exp(-(\\frac{x-y}{u})^2)$\n",
    "\n",
    "where\n",
    "- x: node opinion\n",
    "- u: node uncertainty\n",
    "- y: neighbor opinion\n",
    "- v: neighbor uncertainty"
   ]
  },
  {
   "cell_type": "code",
   "execution_count": 3,
   "metadata": {},
   "outputs": [
    {
     "data": {
      "text/plain": [
       "evolveAgents (generic function with 1 method)"
      ]
     },
     "metadata": {},
     "output_type": "display_data"
    }
   ],
   "source": [
    "function kernel(x,y,u)\n",
    "    g = exp(-((x-y)/u)^2)\n",
    "    return g\n",
    "end\n",
    "\n",
    "function interact(agent1,agent2)\n",
    "    x = agent1.opinion\n",
    "    y = agent2.opinion\n",
    "    u = agent1.uncertainty\n",
    "    v = agent2.uncertainty\n",
    "\n",
    "    x2 = (x + y*kernel(x,y,u)) / (1 + kernel(x,y,u))\n",
    "    u2 = (u + v*kernel(x,y,u)) / (1 + kernel(x,y,u))\n",
    "    return [x2, u2]\n",
    "end\n",
    "\n",
    "function evolveAgents(model)\n",
    "    all_agents = []\n",
    "\n",
    "    for agent in model.agents\n",
    "        y = rand(1:length(model.agents))\n",
    "        while y == agent.id\n",
    "            y = rand(1:length(model.agents))\n",
    "        end\n",
    "        neighbor = model.agents[y]\n",
    "        \n",
    "        new_agent = interact(agent,neighbor)\n",
    "\n",
    "        all_agents = vcat(\n",
    "            all_agents,\n",
    "            Agent(\n",
    "                agent.id,\n",
    "                new_agent[1],\n",
    "                new_agent[2]\n",
    "            )\n",
    "        )\n",
    "    end\n",
    "\n",
    "    model.agents = all_agents\n",
    "    return model\n",
    "end"
   ]
  },
  {
   "cell_type": "markdown",
   "metadata": {},
   "source": [
    "For this project, we will be creating three different models with varying initial uncertainties for their moderates (0.1,0.5,1.2). All models have 100 agents and are allowed to evolve for 500 timesteps."
   ]
  },
  {
   "cell_type": "markdown",
   "metadata": {},
   "source": [
    "We will be using Julia's `Plots` package to create our scatter plots"
   ]
  },
  {
   "cell_type": "code",
   "execution_count": 4,
   "metadata": {},
   "outputs": [],
   "source": [
    "using Plots;"
   ]
  },
  {
   "cell_type": "markdown",
   "metadata": {},
   "source": [
    "## u(0) = 0.1: Central convergence"
   ]
  },
  {
   "cell_type": "code",
   "execution_count": 5,
   "metadata": {},
   "outputs": [],
   "source": [
    "MainModel_1 = Model([]);\n",
    "MainModel_1 = createModel(MainModel_1,100,0.1);\n",
    "\n",
    "xs_1 = []\n",
    "ys_1 = []\n",
    "us_1 = []\n",
    "\n",
    "for generation in 1:500\n",
    "    if generation != 1\n",
    "        MainModel_1 = evolveAgents(MainModel_1)\n",
    "    end\n",
    "    for i in 1:length(MainModel_1.agents)\n",
    "        xs_1 = vcat(xs_1,generation)\n",
    "        ys_1 = vcat(ys_1,MainModel_1.agents[i].opinion)\n",
    "        us_1 = vcat(us_1,MainModel_1.agents[i].uncertainty)\n",
    "    end\n",
    "end"
   ]
  },
  {
   "cell_type": "code",
   "execution_count": 9,
   "metadata": {},
   "outputs": [],
   "source": [
    "plot1 = scatter(\n",
    "    xs_1,\n",
    "    ys_1,\n",
    "    markersize=2.0,\n",
    "    markerstrokewidth=0.2,\n",
    "    legend=false,\n",
    "    xlims=(0,500),\n",
    "    size=(1600,900),\n",
    "    title=\"Opinion dynamics: u(0) = 0.1\",\n",
    "    xlabel=\"Timestep\",\n",
    "    ylabel=\"Opinions\"\n",
    ");\n",
    "savefig(plot1,\"u_01.png\")"
   ]
  },
  {
   "cell_type": "markdown",
   "metadata": {},
   "source": [
    "<img src=\"./u_01.png\" style=\"height: 450px; width:800px;\">"
   ]
  },
  {
   "cell_type": "markdown",
   "metadata": {},
   "source": [
    "Due to the small uncertainties, once nodes are clustered, they wouldnt be able to interact with other clusters, resulting in a more spread-out distribution."
   ]
  },
  {
   "cell_type": "markdown",
   "metadata": {},
   "source": [
    "## u(0) = 0.5: Double convergence"
   ]
  },
  {
   "cell_type": "code",
   "execution_count": 12,
   "metadata": {},
   "outputs": [],
   "source": [
    "MainModel_2 = Model([]);\n",
    "MainModel_2 = createModel(MainModel_2,100,0.5);\n",
    "\n",
    "xs_2 = []\n",
    "ys_2 = []\n",
    "us_2 = []\n",
    "\n",
    "for generation in 1:500\n",
    "    if generation != 1\n",
    "        MainModel_2 = evolveAgents(MainModel_2)\n",
    "    end\n",
    "    for i in 1:length(MainModel_2.agents)\n",
    "        xs_2 = vcat(xs_2,generation)\n",
    "        ys_2 = vcat(ys_2,MainModel_2.agents[i].opinion)\n",
    "        us_2 = vcat(us_2,MainModel_2.agents[i].uncertainty)\n",
    "    end\n",
    "end"
   ]
  },
  {
   "cell_type": "code",
   "execution_count": 13,
   "metadata": {},
   "outputs": [],
   "source": [
    "plot2 = scatter(\n",
    "    xs_2,\n",
    "    ys_2,\n",
    "    markersize=2.0,\n",
    "    markerstrokewidth=0.2,\n",
    "    legend=false,\n",
    "    xlims=(0,500),\n",
    "    size=(1600,900),\n",
    "    title=\"Opinion dynamics: u(0) = 0.5\",\n",
    "    xlabel=\"Timestep\",\n",
    "    ylabel=\"Opinions\"\n",
    ")\n",
    "savefig(plot2,\"u_05.png\")"
   ]
  },
  {
   "cell_type": "markdown",
   "metadata": {},
   "source": [
    "<img src=\"./u_05.png\" style=\"height: 450px; width:800px;\">"
   ]
  },
  {
   "cell_type": "markdown",
   "metadata": {},
   "source": [
    "In this model, node uncertainties are large enough to form clusters with one on each extreme. Once these two clusters form, they are too far apart to interact with each other."
   ]
  },
  {
   "cell_type": "markdown",
   "metadata": {},
   "source": [
    "## u(0) = 1.2: Single convergence"
   ]
  },
  {
   "cell_type": "code",
   "execution_count": 14,
   "metadata": {},
   "outputs": [],
   "source": [
    "MainModel_3 = Model([]);\n",
    "MainModel_3 = createModel(MainModel_3,100,1.2);\n",
    "\n",
    "xs_3 = []\n",
    "ys_3 = []\n",
    "us_3 = []\n",
    "\n",
    "for generation in 1:500\n",
    "    if generation != 1\n",
    "        MainModel_3 = evolveAgents(MainModel_3)\n",
    "    end\n",
    "    for i in 1:length(MainModel_3.agents)\n",
    "        xs_3 = vcat(xs_3,generation)\n",
    "        ys_3 = vcat(ys_3,MainModel_3.agents[i].opinion)\n",
    "        us_3 = vcat(us_3,MainModel_3.agents[i].uncertainty)\n",
    "    end\n",
    "end"
   ]
  },
  {
   "cell_type": "code",
   "execution_count": 15,
   "metadata": {},
   "outputs": [],
   "source": [
    "plot3 = scatter(\n",
    "    xs_3,\n",
    "    ys_3,\n",
    "    markersize=2.0,\n",
    "    markerstrokewidth=0.2,\n",
    "    legend=false,\n",
    "    xlims=(0,500),\n",
    "    size=(1600,900),\n",
    "    title=\"Opinion dynamics: u(0) = 1.2\",\n",
    "    xlabel=\"Timestep\",\n",
    "    ylabel=\"Opinions\"\n",
    ")\n",
    "savefig(plot3,\"u_12.png\")"
   ]
  },
  {
   "cell_type": "markdown",
   "metadata": {},
   "source": [
    "<img src=\"./u_12.png\" style=\"height: 450px; width:800px;\">"
   ]
  },
  {
   "cell_type": "markdown",
   "metadata": {},
   "source": [
    "With the uncertainties large enough, even after two extreme clusters are formed, majority of the nodes can still interact with both sides, resulting in them getting gravitated towards the more \"popular\" extreme."
   ]
  }
 ],
 "metadata": {
  "kernelspec": {
   "display_name": "Julia 1.6.2",
   "language": "julia",
   "name": "julia-1.6"
  },
  "language_info": {
   "file_extension": ".jl",
   "mimetype": "application/julia",
   "name": "julia",
   "version": "1.6.2"
  }
 },
 "nbformat": 4,
 "nbformat_minor": 2
}
